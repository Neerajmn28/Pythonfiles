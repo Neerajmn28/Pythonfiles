{
  "nbformat": 4,
  "nbformat_minor": 0,
  "metadata": {
    "colab": {
      "provenance": [],
      "authorship_tag": "ABX9TyOXlD7iPiMKxYHkYJeKz2YH",
      "include_colab_link": true
    },
    "kernelspec": {
      "name": "python3",
      "display_name": "Python 3"
    },
    "language_info": {
      "name": "python"
    }
  },
  "cells": [
    {
      "cell_type": "markdown",
      "metadata": {
        "id": "view-in-github",
        "colab_type": "text"
      },
      "source": [
        "<a href=\"https://colab.research.google.com/github/Neerajmn28/Pythonfiles/blob/main/Project6.ipynb\" target=\"_parent\"><img src=\"https://colab.research.google.com/assets/colab-badge.svg\" alt=\"Open In Colab\"/></a>"
      ]
    },
    {
      "cell_type": "markdown",
      "source": [
        "A simple password generator using python."
      ],
      "metadata": {
        "id": "X5Iss6rjak-e"
      }
    },
    {
      "cell_type": "code",
      "source": [
        "import random"
      ],
      "metadata": {
        "id": "MgpHZ6kGMK7N"
      },
      "execution_count": 2,
      "outputs": []
    },
    {
      "cell_type": "code",
      "execution_count": 1,
      "metadata": {
        "id": "Ji_2B_mPH5CZ"
      },
      "outputs": [],
      "source": [
        "letters = ['a','b','c','d','e','f','g','h','l','m','n']\n",
        "numbers = ['1','2','3','4','5','6','7','8','9']\n",
        "symbols = ['!','#','$','*','%','~','+','-']"
      ]
    },
    {
      "cell_type": "code",
      "source": [
        "print('Welcome to the Pypassword Genarator!')\n",
        "nr_letters = int(input('How many letters would you like in your password?\\n'))\n",
        "nr_symbols = int(input('How many symbols would you like?\\n'))\n",
        "nr_numbers = int(input('How many numbers would you like?\\n'))"
      ],
      "metadata": {
        "colab": {
          "base_uri": "https://localhost:8080/"
        },
        "id": "o9xtz6yzJ3o4",
        "outputId": "890b5c06-5308-4dbf-bc2c-50f14038082d"
      },
      "execution_count": 11,
      "outputs": [
        {
          "name": "stdout",
          "output_type": "stream",
          "text": [
            "Welcome to the Pypassword Genarator!\n",
            "How many letters would you like in your password?\n",
            "4\n",
            "How many symbols would you like?\n",
            "6\n",
            "How many numbers would you like?\n",
            "3\n"
          ]
        }
      ]
    },
    {
      "cell_type": "code",
      "source": [
        "password = ''\n",
        "\n",
        "for char in range(1, nr_letters + 1):\n",
        "  password += random.choice(letters)\n",
        "\n",
        "for char in range(1, nr_symbols + 1):\n",
        "  password += random.choice(symbols)\n",
        "\n",
        "for char in range(1, nr_numbers + 1):\n",
        "  password += random.choice(numbers)\n",
        "\n",
        "print(password)"
      ],
      "metadata": {
        "colab": {
          "base_uri": "https://localhost:8080/"
        },
        "id": "scPs7URFMOeS",
        "outputId": "3b87882c-7eee-42d3-ca46-29b26e112f06"
      },
      "execution_count": 14,
      "outputs": [
        {
          "output_type": "stream",
          "name": "stdout",
          "text": [
            "bbfn+#%!++592\n"
          ]
        }
      ]
    },
    {
      "cell_type": "markdown",
      "source": [
        "Hard Level"
      ],
      "metadata": {
        "id": "5XQNW7X9fzVz"
      }
    },
    {
      "cell_type": "code",
      "source": [
        "password_list = []\n",
        "\n",
        "for hardpass in range(0, nr_letters):\n",
        "  password_list.append(random.choice(letters))\n",
        "\n",
        "for hardpass in range(0, nr_symbols):\n",
        "  password_list.append(random.choice(symbols))\n",
        "\n",
        "for hardpass in range(0, nr_numbers):\n",
        "  password_list.append(random.choice(numbers))\n",
        "\n",
        "print(password_list)\n",
        "random.shuffle(password_list)\n",
        "print(password_list)\n",
        "\n",
        "hard_password = ''\n",
        "for newpass in password_list:\n",
        "  hard_password += newpass\n",
        "\n",
        "print('New password is:'+' '+str(hard_password))\n"
      ],
      "metadata": {
        "colab": {
          "base_uri": "https://localhost:8080/"
        },
        "id": "s3vV9ZJrMxy2",
        "outputId": "5b11ccad-d7b4-4e29-9b1c-476360ae153d"
      },
      "execution_count": 32,
      "outputs": [
        {
          "output_type": "stream",
          "name": "stdout",
          "text": [
            "['f', 'c', 'g', 'c', '!', '~', '%', '%', '*', '#', '4', '3', '4']\n",
            "['4', '~', '#', 'f', '%', '4', '3', 'c', '%', '!', '*', 'c', 'g']\n",
            "New password is: 4~#f%43c%!*cg\n"
          ]
        }
      ]
    }
  ]
}