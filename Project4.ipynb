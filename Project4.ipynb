{
  "nbformat": 4,
  "nbformat_minor": 0,
  "metadata": {
    "colab": {
      "provenance": [],
      "authorship_tag": "ABX9TyMe0cuOnwgt2IhPVaL40pC1",
      "include_colab_link": true
    },
    "kernelspec": {
      "name": "python3",
      "display_name": "Python 3"
    },
    "language_info": {
      "name": "python"
    }
  },
  "cells": [
    {
      "cell_type": "markdown",
      "metadata": {
        "id": "view-in-github",
        "colab_type": "text"
      },
      "source": [
        "<a href=\"https://colab.research.google.com/github/Neerajmn28/Pythonfiles/blob/main/Project4.ipynb\" target=\"_parent\"><img src=\"https://colab.research.google.com/assets/colab-badge.svg\" alt=\"Open In Colab\"/></a>"
      ]
    },
    {
      "cell_type": "code",
      "source": [
        "print('Welcome to the treasure Island')\n",
        "print('Your mission is to find the treasure.')\n",
        "choice1 = input('You\\'re at a crossroad, where fo you want to go?:\\n'\n",
        "                 'Type \"Left\" or \"Right\".\\n').lower()\n",
        "\n",
        "\n",
        "\n",
        "if choice1 == 'left':\n",
        "  choice2 = input('You\\'ve come to a lake.'\n",
        "                 'There is an island in the middle of the Lake.'\n",
        "                 'Type \"Wait\" to wait for a boat.'\n",
        "                 'Type \"Swim\" to swim across.\\n').lower()\n",
        "  if choice2 == 'wait':\n",
        "    choice3 = input('You arrive at the island inharmed.'\n",
        "                    'There is a house with 3 doors. One Red,'\n",
        "                    'One yellow and one blue.'\n",
        "                    'Which colour do you choose?\\n').lower()\n",
        "    if choice3 == 'red':\n",
        "      print('It is a room full of fire, Game over')\n",
        "    elif choice3 == 'yellow':\n",
        "      print('You found the treasure, You win!')\n",
        "    elif choice3 == 'blue':\n",
        "      print('You entered a room of beats, Game over!')\n",
        "    else:\n",
        "      print('You chose a door that dosen\\'t exist, Game Over!')\n",
        "\n",
        "else:\n",
        "  print('You fell into a hole, Game Over!')"
      ],
      "metadata": {
        "colab": {
          "base_uri": "https://localhost:8080/"
        },
        "id": "RNnD61WE5ZCG",
        "outputId": "238598fa-bfda-4302-b174-b189ec6fef33"
      },
      "execution_count": 8,
      "outputs": [
        {
          "output_type": "stream",
          "name": "stdout",
          "text": [
            "Welcome to the treasure Island\n",
            "Your mission is to find the treasure.\n",
            "You're at a crossroad, where fo you want to go?:\n",
            "Type \"Left\" or \"Right\".\n",
            "left\n",
            "You've come to a lake.There is an island in the middle of the Lake.Type \"Wait\" to wait for a boat.Type \"Swim\" to swim across.\n",
            "Wait\n",
            "You arrive at the island inharmed.There is a house with 3 doors. One Red,One yellow and one blue.Which colour do you choose?\n",
            "yellow\n",
            "You found the treasure, You win!\n"
          ]
        }
      ]
    }
  ]
}