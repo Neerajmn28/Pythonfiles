{
  "nbformat": 4,
  "nbformat_minor": 0,
  "metadata": {
    "colab": {
      "provenance": [],
      "authorship_tag": "ABX9TyNi303jDOwIja4Zf6ISIYhP",
      "include_colab_link": true
    },
    "kernelspec": {
      "name": "python3",
      "display_name": "Python 3"
    },
    "language_info": {
      "name": "python"
    }
  },
  "cells": [
    {
      "cell_type": "markdown",
      "metadata": {
        "id": "view-in-github",
        "colab_type": "text"
      },
      "source": [
        "<a href=\"https://colab.research.google.com/github/Neerajmn28/Pythonfiles/blob/main/Project3.ipynb\" target=\"_parent\"><img src=\"https://colab.research.google.com/assets/colab-badge.svg\" alt=\"Open In Colab\"/></a>"
      ]
    },
    {
      "cell_type": "code",
      "execution_count": 3,
      "metadata": {
        "colab": {
          "base_uri": "https://localhost:8080/"
        },
        "id": "XyP0Q_-QSH9C",
        "outputId": "4d590cdd-8301-4881-c231-60df3890bffb"
      },
      "outputs": [
        {
          "output_type": "stream",
          "name": "stdout",
          "text": [
            "Welcome to the pizza deliveries!\n",
            "What size pizza do you want? S M or L: L\n",
            "Do you want pepperoni on your pizza? Y or N: Y\n",
            "Do you want extra cheese on your Pizza'? Y or N:n\n",
            "You final bill is 230\n",
            "You are welcome to the show, please have a seat!.\n"
          ]
        }
      ],
      "source": [
        "print('Welcome to the pizza deliveries!')\n",
        "size = input('What size pizza do you want? S M or L: ')\n",
        "pepperoni = input('Do you want pepperoni on your pizza? Y or N: ')\n",
        "extra_cheese = input('Do you want extra cheese on your Pizza\\'? Y or N:')\n",
        "\n",
        "bill = 0\n",
        "if size == 'S':\n",
        "  bill += 100\n",
        "elif size == 'M':\n",
        "  bill += 150\n",
        "elif size == 'L':\n",
        "  bill += 200\n",
        "else:\n",
        "  print('You typed the wrong inputs')\n",
        "\n",
        "if pepperoni == 'Y':\n",
        "  if size == 'S':\n",
        "    bill += 20\n",
        "  else:\n",
        "    bill += 30\n",
        "\n",
        "if extra_cheese == 'Y':\n",
        "  bill += 10\n",
        "else:\n",
        "  print('You final bill is'+' '+str(bill))\n",
        "\n",
        "print('You are welcome to the show, please have a seat!.')"
      ]
    }
  ]
}