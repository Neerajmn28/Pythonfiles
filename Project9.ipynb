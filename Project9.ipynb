{
  "cells": [
    {
      "cell_type": "markdown",
      "metadata": {
        "id": "view-in-github",
        "colab_type": "text"
      },
      "source": [
        "<a href=\"https://colab.research.google.com/github/Neerajmn28/Pythonfiles/blob/main/Project9.ipynb\" target=\"_parent\"><img src=\"https://colab.research.google.com/assets/colab-badge.svg\" alt=\"Open In Colab\"/></a>"
      ]
    },
    {
      "cell_type": "markdown",
      "metadata": {
        "id": "UKjULcZKV7y3"
      },
      "source": [
        "#CALCULATOR\n"
      ]
    },
    {
      "cell_type": "markdown",
      "metadata": {
        "id": "UMKhWq3XWC4I"
      },
      "source": [
        "This project is an Interactive Calculator built using Python. It allows users to perform basic arithmetic operations (addition, subtraction, multiplication, and division) in an intuitive and interactive way. The program leverages Python's functional programming capabilities by dynamically associating mathematical operations with corresponding functions.\n",
        "\n"
      ]
    },
    {
      "cell_type": "markdown",
      "source": [
        "Features:\n",
        "* Function as Variables: Arithmetic operations are implemented as separate functions (add, subtraction, multiplication, and divide) and stored in a dictionary for easy reference.\n",
        "* Dynamic Operation Execution: Users can select operations by inputting symbols (+, -, *, /) that are mapped to the corresponding functions in the dictionary.\n",
        "Continuous Calculations:\n",
        "* Users can choose to continue calculations using the result of the previous operation.\n",
        "Allows for a seamless calculation experience without restarting the program.\n",
        "* Input Validation and Feedback: The program prompts users to provide input and displays results in a readable format, such as 10 + 20 = 30."
      ],
      "metadata": {
        "id": "CYRhsjhB24gW"
      }
    },
    {
      "cell_type": "code",
      "execution_count": null,
      "metadata": {
        "id": "GTMTA0NbVVKl"
      },
      "outputs": [],
      "source": [
        "def add(n1 , n2):\n",
        "  return n1 + n2"
      ]
    },
    {
      "cell_type": "code",
      "execution_count": null,
      "metadata": {
        "id": "SXi9kG0uVVI2"
      },
      "outputs": [],
      "source": [
        "my_fav_operator =  add # Storing a function to a variable"
      ]
    },
    {
      "cell_type": "code",
      "execution_count": null,
      "metadata": {
        "colab": {
          "base_uri": "https://localhost:8080/"
        },
        "id": "AMY-u7PNVVGX",
        "outputId": "b7d73b30-a9b8-463b-be7d-95eba960305b"
      },
      "outputs": [
        {
          "name": "stdout",
          "output_type": "stream",
          "text": [
            "30\n"
          ]
        }
      ],
      "source": [
        "print(my_fav_operator(10,20))"
      ]
    },
    {
      "cell_type": "code",
      "execution_count": null,
      "metadata": {
        "id": "Jmyj73MaVVD_"
      },
      "outputs": [],
      "source": [
        "def substraction(n1 , n2):\n",
        "  return n1 - n2"
      ]
    },
    {
      "cell_type": "code",
      "execution_count": null,
      "metadata": {
        "id": "KE8k1xk5VVBj"
      },
      "outputs": [],
      "source": [
        "def multiplication(n1 , n2):\n",
        "  return n1 * n2"
      ]
    },
    {
      "cell_type": "code",
      "execution_count": null,
      "metadata": {
        "id": "qFM3O0Y4VU-4"
      },
      "outputs": [],
      "source": [
        "def divide(n1 , n2):\n",
        "  return n1 / n2"
      ]
    },
    {
      "cell_type": "code",
      "execution_count": null,
      "metadata": {
        "id": "4JX1VEveVU73"
      },
      "outputs": [],
      "source": [
        "# Add these functions into a dictionary\n",
        "\n",
        "operations = {\n",
        "    '+' : add,\n",
        "    '-' : substraction,\n",
        "    '*' : multiplication,\n",
        "    '/' : divide\n",
        "}"
      ]
    },
    {
      "cell_type": "code",
      "execution_count": null,
      "metadata": {
        "colab": {
          "base_uri": "https://localhost:8080/"
        },
        "id": "5G2k7bFXXOhD",
        "outputId": "745b9445-1b39-4717-a280-01255f19b5f9"
      },
      "outputs": [
        {
          "name": "stdout",
          "output_type": "stream",
          "text": [
            "0.5\n"
          ]
        }
      ],
      "source": [
        "# use the functions into a dictionary\n",
        "print(operations['/'](10,20))"
      ]
    },
    {
      "cell_type": "code",
      "execution_count": null,
      "metadata": {
        "id": "EIRZdc4oXisv"
      },
      "outputs": [],
      "source": [
        "def calculator():\n",
        "\n",
        "\n",
        "  should_accumulate = True\n",
        "  num1 = float(input('What is the first number?: '))\n",
        "\n",
        "  while should_accumulate:\n",
        "    for symbols in operations:\n",
        "      print(symbols)\n",
        "    operations_symbols = input('Pick an operation: ')\n",
        "    num2 = float(input('What is the second number?: '))\n",
        "\n",
        "    answer = operations[operations_symbols](num1, num2)\n",
        "    print(f'{num1} {operations_symbols} {num2} = {answer}')\n",
        "\n",
        "    choice = input('Type \"y\" to continue calculating with {answer}, or type \"n\" to start a new calculation:')\n",
        "    if choice == 'y':\n",
        "      num1 = answer\n",
        "    else:\n",
        "      should_accumulate = False\n",
        "      calculator()"
      ]
    },
    {
      "cell_type": "code",
      "execution_count": null,
      "metadata": {
        "colab": {
          "background_save": true,
          "base_uri": "https://localhost:8080/"
        },
        "id": "GiW8zjM6ZSzH",
        "outputId": "38c59326-d91b-4149-bc97-7535752ebbcd"
      },
      "outputs": [
        {
          "name": "stdout",
          "output_type": "stream",
          "text": [
            "+\n",
            "-\n",
            "*\n",
            "/\n",
            "100.0 / 50.0 = 2.0\n"
          ]
        }
      ],
      "source": [
        "calculator()"
      ]
    }
  ],
  "metadata": {
    "colab": {
      "provenance": [],
      "authorship_tag": "ABX9TyOaKVAXDLG3HlgoeZt+tZ62",
      "include_colab_link": true
    },
    "kernelspec": {
      "display_name": "Python 3",
      "name": "python3"
    },
    "language_info": {
      "name": "python"
    }
  },
  "nbformat": 4,
  "nbformat_minor": 0
}