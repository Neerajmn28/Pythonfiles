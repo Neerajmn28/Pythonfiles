{
  "nbformat": 4,
  "nbformat_minor": 0,
  "metadata": {
    "colab": {
      "provenance": [],
      "authorship_tag": "ABX9TyN+8OAQI9pQT2kKwlsBTqGa",
      "include_colab_link": true
    },
    "kernelspec": {
      "name": "python3",
      "display_name": "Python 3"
    },
    "language_info": {
      "name": "python"
    }
  },
  "cells": [
    {
      "cell_type": "markdown",
      "metadata": {
        "id": "view-in-github",
        "colab_type": "text"
      },
      "source": [
        "<a href=\"https://colab.research.google.com/github/Neerajmn28/Pythonfiles/blob/main/Project1.ipynb\" target=\"_parent\"><img src=\"https://colab.research.google.com/assets/colab-badge.svg\" alt=\"Open In Colab\"/></a>"
      ]
    },
    {
      "cell_type": "code",
      "source": [
        "print('Welcome to the band name Generator')\n",
        "city = input('Which city did you grow up in?\\n')\n",
        "pet = input('What is the name of your pet?\\n')\n",
        "print('Your band name could be: ' + city +' '+pet)"
      ],
      "metadata": {
        "colab": {
          "base_uri": "https://localhost:8080/"
        },
        "id": "qOQ5DZT3VFlm",
        "outputId": "302e8581-bc2d-4649-d9c4-66a99c8017b3"
      },
      "execution_count": 2,
      "outputs": [
        {
          "output_type": "stream",
          "name": "stdout",
          "text": [
            "Welcome to the band name Generator\n",
            "Which city did you grow up in?\n",
            "Munich\n",
            "What is the name of your pet?\n",
            "frankfurt\n",
            "Your band name could be: Munich frankfurt\n"
          ]
        }
      ]
    }
  ]
}