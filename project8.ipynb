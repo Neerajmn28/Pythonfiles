{
  "nbformat": 4,
  "nbformat_minor": 0,
  "metadata": {
    "colab": {
      "provenance": [],
      "authorship_tag": "ABX9TyOkl3luHcbLNNcJ3KMaMb1M",
      "include_colab_link": true
    },
    "kernelspec": {
      "name": "python3",
      "display_name": "Python 3"
    },
    "language_info": {
      "name": "python"
    }
  },
  "cells": [
    {
      "cell_type": "markdown",
      "metadata": {
        "id": "view-in-github",
        "colab_type": "text"
      },
      "source": [
        "<a href=\"https://colab.research.google.com/github/Neerajmn28/Pythonfiles/blob/main/project8.ipynb\" target=\"_parent\"><img src=\"https://colab.research.google.com/assets/colab-badge.svg\" alt=\"Open In Colab\"/></a>"
      ]
    },
    {
      "cell_type": "markdown",
      "source": [
        "\n",
        "This is a simple Blind auction project where multiple users can submit bids for an item without knowing the bids of others. The goal is to create a fair bidding system where the highest bid wins, but each participant’s bid remains confidential until the auction ends."
      ],
      "metadata": {
        "id": "jp20w8Gn3o2b"
      }
    },
    {
      "cell_type": "code",
      "execution_count": 1,
      "metadata": {
        "colab": {
          "base_uri": "https://localhost:8080/"
        },
        "id": "N-soFsPvLdHo",
        "outputId": "94636f44-06e6-46fe-85ec-7a22a5d27f03"
      },
      "outputs": [
        {
          "output_type": "stream",
          "name": "stdout",
          "text": [
            "Hey Welcome to the Blind auction project\n"
          ]
        }
      ],
      "source": [
        "print('Hey Welcome to the Blind auction project')"
      ]
    },
    {
      "cell_type": "code",
      "source": [
        "def find_highest_bidder(bid_record):\n",
        "  winner = ''\n",
        "  highest_bid = 0\n",
        "  for bidder in bid_record:\n",
        "    bid_amount = bid_record[bidder]\n",
        "    if bid_amount > highest_bid:\n",
        "      highest_bid = bid_amount\n",
        "      winner = bidder\n",
        "  print(f'The winner is {winner} with a bid of ${highest_bid}')\n"
      ],
      "metadata": {
        "id": "yaw-j3Vhzabu"
      },
      "execution_count": 33,
      "outputs": []
    },
    {
      "cell_type": "code",
      "source": [
        "bids = {}\n",
        "\n",
        "\n",
        "continue_bidding = True\n",
        "while continue_bidding:\n",
        "  name = input('What is your name?: ')\n",
        "  price = int(input('What is your bid: $'))\n",
        "  bids[name] = price\n",
        "  should_continue = input('Are there any other bidders? Type \"yes\" or \"no\".\\n').lower()\n",
        "  if should_continue == 'no':\n",
        "    continue_bidding = False\n",
        "    find_highest_bidder(bids)\n",
        "  elif should_continue == 'yes':\n",
        "    print('\\n'*20)\n",
        "  else:\n",
        "    print('Invalid input')\n",
        "\n",
        "\n",
        "\n"
      ],
      "metadata": {
        "colab": {
          "base_uri": "https://localhost:8080/"
        },
        "id": "afwFXEntMvXZ",
        "outputId": "c607dd3d-15ce-4bb1-a6b5-b378cf7a1b4a"
      },
      "execution_count": 34,
      "outputs": [
        {
          "output_type": "stream",
          "name": "stdout",
          "text": [
            "What is your name?: Dawkins\n",
            "What is your bid: $2000000\n",
            "Are there any other bidders? Type \"yes\" or \"no\".\n",
            "yes\n",
            "\n",
            "\n",
            "\n",
            "\n",
            "\n",
            "\n",
            "\n",
            "\n",
            "\n",
            "\n",
            "\n",
            "\n",
            "\n",
            "\n",
            "\n",
            "\n",
            "\n",
            "\n",
            "\n",
            "\n",
            "\n",
            "What is your name?: heiderberg\n",
            "What is your bid: $200000\n",
            "Are there any other bidders? Type \"yes\" or \"no\".\n",
            "yes\n",
            "\n",
            "\n",
            "\n",
            "\n",
            "\n",
            "\n",
            "\n",
            "\n",
            "\n",
            "\n",
            "\n",
            "\n",
            "\n",
            "\n",
            "\n",
            "\n",
            "\n",
            "\n",
            "\n",
            "\n",
            "\n",
            "What is your name?: bertrand\n",
            "What is your bid: $238000\n",
            "Are there any other bidders? Type \"yes\" or \"no\".\n",
            "no\n",
            "The winner is Dawkins with a bid of $2000000\n"
          ]
        }
      ]
    }
  ]
}