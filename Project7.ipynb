{
  "nbformat": 4,
  "nbformat_minor": 0,
  "metadata": {
    "colab": {
      "provenance": [],
      "authorship_tag": "ABX9TyNssm2R1XWfbm0sJhTinBux",
      "include_colab_link": true
    },
    "kernelspec": {
      "name": "python3",
      "display_name": "Python 3"
    },
    "language_info": {
      "name": "python"
    }
  },
  "cells": [
    {
      "cell_type": "markdown",
      "metadata": {
        "id": "view-in-github",
        "colab_type": "text"
      },
      "source": [
        "<a href=\"https://colab.research.google.com/github/Neerajmn28/Pythonfiles/blob/main/Project7.ipynb\" target=\"_parent\"><img src=\"https://colab.research.google.com/assets/colab-badge.svg\" alt=\"Open In Colab\"/></a>"
      ]
    },
    {
      "cell_type": "markdown",
      "source": [
        "\n",
        "Here’s a project description for a Caesar Cipher project:\n",
        "\n",
        "Caesar Cipher Encryption Project\n",
        "Project Overview\n",
        "The Caesar Cipher is one of the simplest and most well-known encryption techniques. In this project, I’ll create a Python program that can both encrypt and decrypt messages using Caesar Cipher encryption. This project is a great introduction to cryptography, text manipulation, and control flow in Python.\n",
        "\n",
        "Project Objectives\n",
        "Implement Caesar Cipher Logic:\n",
        "\n",
        "Shift each letter in the message by a fixed number of positions, wrapping around the alphabet as needed.\n",
        "Allow Custom Shift Values:\n",
        "\n",
        "The program will allow users to specify the shift amount, making it flexible for different encryption levels.\n",
        "Encrypt and Decrypt Modes:\n",
        "\n",
        "Encrypt: Shifts letters forward in the alphabet.\n",
        "Decrypt: Shifts letters backward to reveal the original message.\n",
        "Handle Edge Cases:\n",
        "\n",
        "Correctly process uppercase and lowercase letters.\n",
        "Leave non-letter characters (e.g., punctuation and spaces) unchanged.\n",
        "How It Works\n",
        "Encryption: Given a text message and a shift value, the program shifts each letter in the message by the shift value to produce an encrypted message.\n",
        "\n",
        "Decryption: Using the same shift value, the program can shift each letter in the encrypted message backward to retrieve the original text.\n",
        "\n",
        "Example\n",
        "Encryption Example:\n",
        "Input: text = \"Hello World!\", shift = 3\n",
        "Output: \"Khoor Zruog\"\n",
        "Decryption Example:\n",
        "Input: text = \"Khoor Zruog!\", shift = 3\n",
        "Output: \"Hello World!\""
      ],
      "metadata": {
        "id": "L-D7FFU9agE4"
      }
    },
    {
      "cell_type": "code",
      "execution_count": 1,
      "metadata": {
        "colab": {
          "base_uri": "https://localhost:8080/"
        },
        "id": "L1S72XW29MPs",
        "outputId": "7cadfbe0-878e-405d-ff64-c9be3bee92a9"
      },
      "outputs": [
        {
          "output_type": "stream",
          "name": "stdout",
          "text": [
            "['a', 'b', 'c', 'd', 'e', 'f', 'g', 'h', 'i', 'j', 'k', 'l', 'm', 'n', 'o', 'p', 'q', 'r', 's', 't', 'u', 'v', 'w', 'x', 'y', 'z']\n"
          ]
        }
      ],
      "source": [
        "import string # To import alphabets\n",
        "\n",
        "alphabets_list  = list(string.ascii_lowercase)\n",
        "print(alphabets_list)"
      ]
    },
    {
      "cell_type": "markdown",
      "source": [
        "# Encrypt"
      ],
      "metadata": {
        "id": "9e0WgXLganjt"
      }
    },
    {
      "cell_type": "code",
      "source": [
        "direction = input('Type \"encode\" to encrypt, type \"decode\" to decrypt\"\\n').lower()\n",
        "text = input('Type your message:\\n').lower()\n",
        "shift = int(input('Type the shift number:\\n'))"
      ],
      "metadata": {
        "colab": {
          "base_uri": "https://localhost:8080/"
        },
        "id": "_qyNgnmU9cKG",
        "outputId": "a70d08cf-5549-46bb-a366-0ec48b181336"
      },
      "execution_count": 48,
      "outputs": [
        {
          "name": "stdout",
          "output_type": "stream",
          "text": [
            "Type \"encode\" to encrypt, type \"decode\" to decrypt\"\n",
            "encode\n",
            "Type your message:\n",
            "hello world\n",
            "Type the shift number:\n",
            "3\n"
          ]
        }
      ]
    },
    {
      "cell_type": "code",
      "source": [
        "def encrypt(orginal_text, shift_amount):\n",
        "  new_letter = ''\n",
        "\n",
        "  for letter in orginal_text:\n",
        "    if letter not in alphabets_list:\n",
        "      new_letter += letter\n",
        "    else:\n",
        "      position =  alphabets_list.index(letter) + shift\n",
        "      position %= len(alphabets_list)\n",
        "      new_letter += alphabets_list[position]\n",
        "  print(f'The encoded text is {new_letter}')"
      ],
      "metadata": {
        "id": "Hd5A5Vml97Je"
      },
      "execution_count": 54,
      "outputs": []
    },
    {
      "cell_type": "code",
      "source": [
        "encrypt(orginal_text = text, shift_amount = shift)"
      ],
      "metadata": {
        "colab": {
          "base_uri": "https://localhost:8080/"
        },
        "id": "PyAzTfilBglR",
        "outputId": "ec6a9b28-7cc0-4bba-f7c9-77c391d48c64"
      },
      "execution_count": 53,
      "outputs": [
        {
          "output_type": "stream",
          "name": "stdout",
          "text": [
            "The encoded text is khoor zruog\n"
          ]
        }
      ]
    },
    {
      "cell_type": "markdown",
      "source": [
        "#Decrypt"
      ],
      "metadata": {
        "id": "bH5RKmLucHW_"
      }
    },
    {
      "cell_type": "code",
      "source": [
        "direction = input('Type \"encode\" to encrypt, type \"decode\" to decrypt\"\\n').lower()\n",
        "text = input('Type your message:\\n').lower()\n",
        "shift = int(input('Type the shift number:\\n'))"
      ],
      "metadata": {
        "colab": {
          "base_uri": "https://localhost:8080/"
        },
        "id": "y4aDJbescUCE",
        "outputId": "2dc7be0e-0718-4790-8909-051c6a43c07e"
      },
      "execution_count": 57,
      "outputs": [
        {
          "name": "stdout",
          "output_type": "stream",
          "text": [
            "Type \"encode\" to encrypt, type \"decode\" to decrypt\"\n",
            "decode\n",
            "Type your message:\n",
            "khoor zruog\n",
            "Type the shift number:\n",
            "3\n"
          ]
        }
      ]
    },
    {
      "cell_type": "code",
      "source": [
        "def decrypt(orginal_text, shift):\n",
        "  output_text = ''\n",
        "\n",
        "  for letter in orginal_text:\n",
        "    if letter not in alphabets_list:\n",
        "      output_text += letter\n",
        "    else:\n",
        "      shifted_position = alphabets_list.index(letter) - shift\n",
        "      shifted_position %= len(alphabets_list)\n",
        "      output_text += alphabets_list[shifted_position]\n",
        "  print('Here is the encoded result',(output_text))"
      ],
      "metadata": {
        "id": "lTGInOegAbsL"
      },
      "execution_count": 66,
      "outputs": []
    },
    {
      "cell_type": "code",
      "source": [
        "decrypt(orginal_text = text, shift = shift)"
      ],
      "metadata": {
        "colab": {
          "base_uri": "https://localhost:8080/"
        },
        "id": "qSnTh_kxOf6f",
        "outputId": "8f4576c3-9b75-42bd-c649-467852c8cbdf"
      },
      "execution_count": 67,
      "outputs": [
        {
          "output_type": "stream",
          "name": "stdout",
          "text": [
            "Here is the encoded result hello world\n"
          ]
        }
      ]
    },
    {
      "cell_type": "markdown",
      "source": [
        "# So this is combined encrypt and decrypt with additional keyword argument."
      ],
      "metadata": {
        "id": "kWQXA0CrSEUA"
      }
    },
    {
      "cell_type": "code",
      "source": [
        "direction = input('Type \"encode\" to encrypt, type \"decode\" to decrypt\"\\n').lower()\n",
        "text = input('Type your message:\\n').lower()\n",
        "shift = int(input('Type the shift number:\\n'))"
      ],
      "metadata": {
        "colab": {
          "base_uri": "https://localhost:8080/"
        },
        "id": "eBt911q-YDYe",
        "outputId": "56f4566d-10bf-48ea-81d0-7e991c9add42"
      },
      "execution_count": 26,
      "outputs": [
        {
          "name": "stdout",
          "output_type": "stream",
          "text": [
            "Type \"encode\" to encrypt, type \"decode\" to decrypt\"\n",
            "encode\n",
            "Type your message:\n",
            "guten tag\n",
            "Type the shift number:\n",
            "4\n"
          ]
        }
      ]
    },
    {
      "cell_type": "code",
      "source": [
        "def caeser(orginal_text, shift_amount, encode_or_decode):\n",
        "  output_text = ''\n",
        "\n",
        "  if encode_or_decode == 'decode':\n",
        "    shift_amount *= -1\n",
        "\n",
        "  for letter in orginal_text:\n",
        "\n",
        "    if letter not in alphabets_list:\n",
        "      output_text += letter\n",
        "    else:\n",
        "      position = alphabets_list.index(letter) + shift_amount\n",
        "      position %= len(alphabets_list)\n",
        "      output_text += alphabets_list[position]\n",
        "    print('Here is the encoded result',(output_text))"
      ],
      "metadata": {
        "id": "t8wKWbrkR6B1"
      },
      "execution_count": 68,
      "outputs": []
    },
    {
      "cell_type": "code",
      "source": [
        "caeser(orginal_text = text, shift_amount = shift, encode_or_decode = direction)"
      ],
      "metadata": {
        "colab": {
          "base_uri": "https://localhost:8080/"
        },
        "id": "pV02sz_kZFUW",
        "outputId": "f5dd763a-2e86-435d-af53-b9ccdbf3aa42"
      },
      "execution_count": 69,
      "outputs": [
        {
          "output_type": "stream",
          "name": "stdout",
          "text": [
            "Here is the encoded result h\n",
            "Here is the encoded result he\n",
            "Here is the encoded result hel\n",
            "Here is the encoded result hell\n",
            "Here is the encoded result hello\n",
            "Here is the encoded result hello \n",
            "Here is the encoded result hello w\n",
            "Here is the encoded result hello wo\n",
            "Here is the encoded result hello wor\n",
            "Here is the encoded result hello worl\n",
            "Here is the encoded result hello world\n"
          ]
        }
      ]
    },
    {
      "cell_type": "code",
      "source": [
        "should_continue = True\n",
        "\n",
        "while should_continue:\n",
        "  direction = input('Type \"encode\" to encrypt, type \"decode\" to decrpyt ')\n",
        "  text = input('Type your message:\\n').lower()\n",
        "  shift = int(input('Type the shift number:\\n'))\n",
        "  caeser(orginal_text = text, shift_amount = shift, encode_or_decode = direction)\n",
        "\n",
        "  restart = input('Type \"yes\" if you want to go again. Otherwise type \"no\".\\n')\n",
        "  if restart == 'no':\n",
        "    should_continue = False\n",
        "    print('Bye')"
      ],
      "metadata": {
        "id": "7VSuKtuEXuNf"
      },
      "execution_count": null,
      "outputs": []
    }
  ]
}