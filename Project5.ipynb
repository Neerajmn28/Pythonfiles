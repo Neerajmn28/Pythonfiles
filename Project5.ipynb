{
  "nbformat": 4,
  "nbformat_minor": 0,
  "metadata": {
    "colab": {
      "provenance": [],
      "authorship_tag": "ABX9TyOBvJ7C7jKN3/jfZr2qEmnv",
      "include_colab_link": true
    },
    "kernelspec": {
      "name": "python3",
      "display_name": "Python 3"
    },
    "language_info": {
      "name": "python"
    }
  },
  "cells": [
    {
      "cell_type": "markdown",
      "metadata": {
        "id": "view-in-github",
        "colab_type": "text"
      },
      "source": [
        "<a href=\"https://colab.research.google.com/github/Neerajmn28/Pythonfiles/blob/main/Project5.ipynb\" target=\"_parent\"><img src=\"https://colab.research.google.com/assets/colab-badge.svg\" alt=\"Open In Colab\"/></a>"
      ]
    },
    {
      "cell_type": "markdown",
      "source": [
        "\n",
        "This Python code is a simple implementation of the \"Rock, Paper, Scissors\" game. Here's how it works:\n",
        "\n",
        "User Input:\n",
        "\n",
        "* The user is prompted to input a number: 0 for Rock, 1 for Paper, or 2 for Scissors.\n",
        "Computer Choice:\n",
        "\n",
        "* The computer randomly selects a number between 0 and 2 using the random.randint(0, 2) function, which represents its choice (0 for Rock, 1 for Paper, 2 for Scissors).\n",
        "Invalid Input Check:\n",
        "\n",
        "* The program checks if the user's choice is valid (i.e., between 0 and 2). If it's not, it prints \"You entered an invalid number.\"\n",
        "\n",
        "\n",
        "Game Logic:\n",
        "\n",
        "* The program compares the user's choice with the computer's choice and determines the winner based on the rules:\n",
        "Rock (0) beats Scissors (2)\n",
        "Paper (1) beats Rock (0)\n",
        "Scissors (2) beat Paper (1)\n",
        "* If both choices are the same, the game results in a draw.\n",
        "* Otherwise, the program prints whether the user or the computer wins based on the conditions specified."
      ],
      "metadata": {
        "id": "O_4MxhhIHyit"
      }
    },
    {
      "cell_type": "code",
      "execution_count": 1,
      "metadata": {
        "id": "wvHrRWl5uYah"
      },
      "outputs": [],
      "source": [
        "import random #Import the library"
      ]
    },
    {
      "cell_type": "code",
      "source": [
        "user_choice = int(input('What do you choose? Type 0 for Rock, 1 for paper or 2 for scissors:\\n'))\n",
        "# 0 for Rock\n",
        "# 1 for paper\n",
        "# 2 for scissors\n",
        "computer_choice = random.randint(0,2)\n",
        "print('The computer chose'+ ' '+ str(computer_choice))\n",
        "\n",
        "if user_choice > 2 or user_choice <0:\n",
        "  print('You entered an invalid number')\n",
        "elif user_choice == 0 and computer_choice == 2:\n",
        "  print('You win!')\n",
        "elif user_choice == 2 and computer_choice == 0:\n",
        "  print('Computer win!')\n",
        "elif user_choice == 2 and computer_choice == 1:\n",
        "  print('You win!')\n",
        "elif user_choice == 1 and computer_choice == 0:\n",
        "  print('You win!')\n",
        "elif user_choice < computer_choice:\n",
        "  print('Computer win!')\n",
        "elif computer_choice == user_choice:\n",
        "  print('It is a draw')\n",
        "else:\n",
        "  print('You typed an invalid number')"
      ],
      "metadata": {
        "colab": {
          "base_uri": "https://localhost:8080/"
        },
        "id": "VCGiS_gKnRMb",
        "outputId": "ad59b53c-8b14-4176-96e6-dcfd0c3091ab"
      },
      "execution_count": 59,
      "outputs": [
        {
          "output_type": "stream",
          "name": "stdout",
          "text": [
            "What do you choose? Type 0 for Rock, 1 for paper or 2 for scissors:\n",
            "2\n",
            "The computer chose 2\n",
            "It is a draw\n"
          ]
        }
      ]
    }
  ]
}