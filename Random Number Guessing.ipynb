{
  "nbformat": 4,
  "nbformat_minor": 0,
  "metadata": {
    "colab": {
      "provenance": [],
      "authorship_tag": "ABX9TyPEbE3D+BjNhSVpLsjKJpn+",
      "include_colab_link": true
    },
    "kernelspec": {
      "name": "python3",
      "display_name": "Python 3"
    },
    "language_info": {
      "name": "python"
    }
  },
  "cells": [
    {
      "cell_type": "markdown",
      "metadata": {
        "id": "view-in-github",
        "colab_type": "text"
      },
      "source": [
        "<a href=\"https://colab.research.google.com/github/Neerajmn28/Pythonfiles/blob/main/Random%20Number%20Guessing.ipynb\" target=\"_parent\"><img src=\"https://colab.research.google.com/assets/colab-badge.svg\" alt=\"Open In Colab\"/></a>"
      ]
    },
    {
      "cell_type": "markdown",
      "source": [
        "The program generates a random number, and the user tries to guess it."
      ],
      "metadata": {
        "id": "YCwRX9uzRrHQ"
      }
    },
    {
      "cell_type": "code",
      "source": [
        "import random # Import Library"
      ],
      "metadata": {
        "id": "AQ4wPbatPQbk"
      },
      "execution_count": 1,
      "outputs": []
    },
    {
      "cell_type": "code",
      "source": [
        "def guess_number():\n",
        "  num = random.randint(1,100)\n",
        "  tries = 0\n",
        "\n",
        "  while True:\n",
        "    guess = int(input('Guess the number (between 1 and 100):'))\n",
        "    tries += 1\n",
        "\n",
        "    if guess < num:\n",
        "      print('Too Low!')\n",
        "    elif guess > num:\n",
        "      print('Too High!')\n",
        "    else:\n",
        "      print(f'Congratulations! You guesses it in {tries} tries.')\n",
        "      break\n",
        "guess_number()"
      ],
      "metadata": {
        "colab": {
          "base_uri": "https://localhost:8080/"
        },
        "id": "M6DyTp-LPUh7",
        "outputId": "aada499a-9758-4797-f352-7fd5e0b001a5"
      },
      "execution_count": null,
      "outputs": [
        {
          "output_type": "stream",
          "name": "stdout",
          "text": [
            "Guess the number (between 1 and 100):1\n",
            "Too Low!\n",
            "Guess the number (between 1 and 100):99\n",
            "Too High!\n"
          ]
        }
      ]
    }
  ]
}