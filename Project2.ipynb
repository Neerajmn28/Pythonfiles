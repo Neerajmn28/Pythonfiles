{
  "cells": [
    {
      "cell_type": "markdown",
      "metadata": {
        "id": "view-in-github",
        "colab_type": "text"
      },
      "source": [
        "<a href=\"https://colab.research.google.com/github/Neerajmn28/Pythonfiles/blob/main/Project2.ipynb\" target=\"_parent\"><img src=\"https://colab.research.google.com/assets/colab-badge.svg\" alt=\"Open In Colab\"/></a>"
      ]
    },
    {
      "cell_type": "code",
      "execution_count": 2,
      "metadata": {
        "colab": {
          "base_uri": "https://localhost:8080/"
        },
        "id": "qOQ5DZT3VFlm",
        "outputId": "34bda9c1-f0de-4410-89e2-f6924e0274f3"
      },
      "outputs": [
        {
          "output_type": "stream",
          "name": "stdout",
          "text": [
            "Welcome to the tip calculator\n",
            "How many people are there?:10\n",
            "Each person should pay: 115.0\n"
          ]
        }
      ],
      "source": [
        "print('Welcome to the tip calculator')\n",
        "bill = float(input('What was the total bill?:$'))\n",
        "tip = int(input('What percentage tip would you like to give?: 10, 15, 20'))\n",
        "people = int(input('How many people are there?:'))\n",
        "bill_with_tip = tip/100\n",
        "total_bill = bill * bill_with_tip + bill\n",
        "bill_per_person = total_bill / people\n",
        "print('Each person should pay: ' + str(bill_per_person))"
      ]
    },
    {
      "cell_type": "code",
      "execution_count": null,
      "metadata": {
        "id": "DhPiXprXY01c"
      },
      "outputs": [],
      "source": [
        "#print(100 * 0.15% + 100(total_bill))"
      ]
    }
  ],
  "metadata": {
    "colab": {
      "provenance": [],
      "authorship_tag": "ABX9TyM2NaYLwmmvS7cc/SlnERGr",
      "include_colab_link": true
    },
    "kernelspec": {
      "display_name": "Python 3",
      "name": "python3"
    },
    "language_info": {
      "name": "python"
    }
  },
  "nbformat": 4,
  "nbformat_minor": 0
}